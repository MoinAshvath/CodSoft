{
 "cells": [
  {
   "cell_type": "markdown",
   "metadata": {},
   "source": [
    "# MOVIE GENRE CLASSIFICATION"
   ]
  },
  {
   "cell_type": "code",
   "execution_count": 9,
   "metadata": {},
   "outputs": [],
   "source": [
    "import pandas as pd\n",
    "import numpy as np\n",
    "from sklearn.feature_extraction.text import TfidfVectorizer\n",
    "from sklearn.model_selection import train_test_split\n",
    "from sklearn.naive_bayes import MultinomialNB\n",
    "from sklearn.linear_model import LogisticRegression\n",
    "from sklearn.svm import SVC\n",
    "from sklearn.metrics import accuracy_score, classification_report\n",
    "import re"
   ]
  },
  {
   "cell_type": "code",
   "execution_count": 3,
   "metadata": {},
   "outputs": [],
   "source": [
    "def load_data(file_name):\n",
    "    data = []\n",
    "    with open(f'GenreClassificationDataset/{file_name}', 'r', encoding='latin1') as file:\n",
    "        for line in file:\n",
    "            parts = line.strip().split(' ::: ')\n",
    "            data.append(parts)\n",
    "    return pd.DataFrame(data)\n",
    "\n",
    "# Load training data\n",
    "train_data = load_data('train_data.txt')\n",
    "train_data.columns = ['ID', 'TITLE', 'GENRE', 'DESCRIPTION']\n",
    "\n",
    "# Load test data\n",
    "test_data = load_data('test_data.txt')\n",
    "test_data.columns = ['ID', 'TITLE', 'DESCRIPTION']\n"
   ]
  },
  {
   "cell_type": "code",
   "execution_count": 4,
   "metadata": {},
   "outputs": [],
   "source": [
    "def preprocess_text(text):\n",
    "    text = re.sub(r'[^a-zA-Z\\s]', '', text)\n",
    "    text = text.lower()\n",
    "    return text\n",
    "\n",
    "train_data['DESCRIPTION'] = train_data['DESCRIPTION'].apply(preprocess_text)\n",
    "test_data['DESCRIPTION'] = test_data['DESCRIPTION'].apply(preprocess_text)\n",
    "\n",
    "X_train, X_val, y_train, y_val = train_test_split(train_data['DESCRIPTION'], train_data['GENRE'], test_size=0.2, random_state=42)\n",
    "\n",
    "# Vectorize text data using TF-IDF\n",
    "vectorizer = TfidfVectorizer(stop_words='english', max_features=5000)\n",
    "X_train_tfidf = vectorizer.fit_transform(X_train)\n",
    "X_val_tfidf = vectorizer.transform(X_val)\n",
    "X_test_tfidf = vectorizer.transform(test_data['DESCRIPTION'])"
   ]
  },
  {
   "cell_type": "code",
   "execution_count": 5,
   "metadata": {},
   "outputs": [
    {
     "name": "stdout",
     "output_type": "stream",
     "text": [
      "The predicted genre is: drama\n"
     ]
    }
   ],
   "source": [
    "# Train Logistic Regression model\n",
    "lr_model = LogisticRegression(max_iter=1000)\n",
    "lr_model.fit(X_train_tfidf, y_train)\n",
    "lr_val_pred = lr_model.predict(X_val_tfidf)\n",
    "\n",
    "# Function to predict genre\n",
    "def genre(description, vectorizer, model):\n",
    "    description = preprocess_text(description)\n",
    "    description_tfidf = vectorizer.transform([description])\n",
    "    predicted_genre = model.predict(description_tfidf)\n",
    "    return predicted_genre[0]\n",
    "\n",
    "description = \"A talented film director with difficulty to deal with his sickness, which is making him lose his friends and family.\"\n",
    "predicted_genre = genre(description, vectorizer, lr_model)\n",
    "print(f'The predicted genre is: {predicted_genre}')"
   ]
  },
  {
   "cell_type": "code",
   "execution_count": 8,
   "metadata": {},
   "outputs": [
    {
     "name": "stdout",
     "output_type": "stream",
     "text": [
      "Logistic Regression Classification Report:\n"
     ]
    },
    {
     "name": "stderr",
     "output_type": "stream",
     "text": [
      "c:\\Users\\moina.LAPTOP-RFIK8EOT\\AppData\\Local\\Programs\\Python\\Python312\\Lib\\site-packages\\sklearn\\metrics\\_classification.py:1531: UndefinedMetricWarning: Precision is ill-defined and being set to 0.0 in labels with no predicted samples. Use `zero_division` parameter to control this behavior.\n",
      "  _warn_prf(average, modifier, f\"{metric.capitalize()} is\", len(result))\n",
      "c:\\Users\\moina.LAPTOP-RFIK8EOT\\AppData\\Local\\Programs\\Python\\Python312\\Lib\\site-packages\\sklearn\\metrics\\_classification.py:1531: UndefinedMetricWarning: Precision is ill-defined and being set to 0.0 in labels with no predicted samples. Use `zero_division` parameter to control this behavior.\n",
      "  _warn_prf(average, modifier, f\"{metric.capitalize()} is\", len(result))\n",
      "c:\\Users\\moina.LAPTOP-RFIK8EOT\\AppData\\Local\\Programs\\Python\\Python312\\Lib\\site-packages\\sklearn\\metrics\\_classification.py:1531: UndefinedMetricWarning: Precision is ill-defined and being set to 0.0 in labels with no predicted samples. Use `zero_division` parameter to control this behavior.\n",
      "  _warn_prf(average, modifier, f\"{metric.capitalize()} is\", len(result))\n"
     ]
    },
    {
     "name": "stdout",
     "output_type": "stream",
     "text": [
      "              precision    recall  f1-score   support\n",
      "\n",
      "      action       0.55      0.27      0.36       263\n",
      "       adult       0.72      0.21      0.32       112\n",
      "   adventure       0.44      0.14      0.21       139\n",
      "   animation       0.67      0.10      0.17       104\n",
      "   biography       0.00      0.00      0.00        61\n",
      "      comedy       0.51      0.58      0.54      1443\n",
      "       crime       0.29      0.02      0.04       107\n",
      " documentary       0.66      0.84      0.74      2659\n",
      "       drama       0.54      0.77      0.64      2697\n",
      "      family       0.40      0.08      0.13       150\n",
      "     fantasy       0.00      0.00      0.00        74\n",
      "   game-show       0.95      0.47      0.63        40\n",
      "     history       0.00      0.00      0.00        45\n",
      "      horror       0.62      0.56      0.59       431\n",
      "       music       0.66      0.49      0.56       144\n",
      "     musical       0.50      0.02      0.04        50\n",
      "     mystery       0.00      0.00      0.00        56\n",
      "        news       1.00      0.03      0.06        34\n",
      "  reality-tv       0.49      0.17      0.25       192\n",
      "     romance       0.14      0.01      0.01       151\n",
      "      sci-fi       0.55      0.23      0.33       143\n",
      "       short       0.46      0.32      0.38      1045\n",
      "       sport       0.61      0.20      0.31        93\n",
      "   talk-show       0.61      0.14      0.22        81\n",
      "    thriller       0.39      0.14      0.21       309\n",
      "         war       0.00      0.00      0.00        20\n",
      "     western       0.95      0.73      0.82       200\n",
      "\n",
      "    accuracy                           0.58     10843\n",
      "   macro avg       0.47      0.24      0.28     10843\n",
      "weighted avg       0.55      0.58      0.53     10843\n",
      "\n"
     ]
    }
   ],
   "source": [
    "print(\"Logistic Regression Classification Report:\")\n",
    "print(classification_report(y_val, lr_val_pred))\n",
    "\n",
    "best_model = lr_model  # Assuming Logistic Regression is the best performing model\n",
    "test_data['PREDICTED_GENRE'] = best_model.predict(X_test_tfidf)"
   ]
  },
  {
   "cell_type": "code",
   "execution_count": null,
   "metadata": {},
   "outputs": [],
   "source": []
  }
 ],
 "metadata": {
  "kernelspec": {
   "display_name": "Python 3",
   "language": "python",
   "name": "python3"
  },
  "language_info": {
   "codemirror_mode": {
    "name": "ipython",
    "version": 3
   },
   "file_extension": ".py",
   "mimetype": "text/x-python",
   "name": "python",
   "nbconvert_exporter": "python",
   "pygments_lexer": "ipython3",
   "version": "3.12.1"
  }
 },
 "nbformat": 4,
 "nbformat_minor": 2
}
